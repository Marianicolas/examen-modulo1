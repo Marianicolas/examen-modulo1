{
 "cells": [
  {
   "cell_type": "code",
   "execution_count": 9,
   "id": "61ae6ed3",
   "metadata": {},
   "outputs": [],
   "source": [
    "inventario = [{'nombre': 'camisa', 'precio': 20, 'cantidad': 40}, {'nombre': 'pantalon', 'precio': 30, 'cantidad': 30}]\n",
    "total= 0\n",
    "\n",
    "class Tiendaonline:\n",
    "    def __init__(self, inventario):\n",
    "        self.inventario = inventario\n",
    "    \n",
    "\n",
    "    def agregar_producto(self, nombre, precio, cantidad):\n",
    "        for articulo in self.inventario:\n",
    "            if articulo['nombre'] == nombre:\n",
    "                articulo['cantidad'] += cantidad\n",
    "                return\n",
    "        else:\n",
    "            self.inventario.append({'nombre':nombre, 'precio': precio, 'cantidad': cantidad})\n",
    "\n",
    "    def ver_inventario(self):\n",
    "        for articulo in self.inventario:\n",
    "            print(f'producto:{articulo['nombre']}| precio:{articulo['precio']} |cantidad:{articulo['cantidad']}')\n",
    "\n",
    "    def buscar_producto(self,nombre):\n",
    "        for articulo in self.inventario:\n",
    "            if articulo['nombre']== nombre:\n",
    "                print(f'articulo encontrado {articulo}')\n",
    "                return\n",
    "        else:\n",
    "            print(f'el articulo{nombre} no se encuentra en el inventario')\n",
    "\n",
    "    def actualizar_stock(self, nombre, cantidad):\n",
    "        for articulo in self.inventario:\n",
    "            if articulo['nombre']== nombre:\n",
    "                articulo['cantidad'] += cantidad\n",
    "                print(f'stock actualizado,{articulo}')\n",
    "                return\n",
    "        else:\n",
    "            print('el articulo{nombre} no se encuentra en el inventario')\n",
    "\n",
    "    def eliminar_producto(self, nombre):\n",
    "        for articulo in self.inventario:\n",
    "            if articulo['nombre'] == nombre:\n",
    "                self.inventario.remove(articulo)\n",
    "                print(f'el articulo {nombre} se ha eliminado de tu inventario')\n",
    "                return\n",
    "        else:\n",
    "            print(f'el articulo {nombre} no se ha encontrado')\n",
    "\n",
    "    def calcular_valor_inventario(self):\n",
    "        total = 0\n",
    "        for articulo in self.inventario:\n",
    "                valor = articulo['precio'] * articulo['cantidad']\n",
    "                total+= valor\n",
    "                print(f'el valor del inventario es {total}')\n",
    "\n",
    "        if not self.inventario:\n",
    "            print (' el articulo no se encuentra en el inventario')\n",
    "                \n",
    "        \n",
    "    \n",
    "         "
   ]
  },
  {
   "cell_type": "code",
   "execution_count": 10,
   "id": "b42862ef",
   "metadata": {},
   "outputs": [],
   "source": [
    "tienda = Tiendaonline(inventario)\n"
   ]
  },
  {
   "cell_type": "code",
   "execution_count": 11,
   "id": "a3243ce9",
   "metadata": {},
   "outputs": [],
   "source": [
    "tienda.agregar_producto('zapatos', 50, 40)"
   ]
  },
  {
   "cell_type": "code",
   "execution_count": 12,
   "id": "6e060a3c",
   "metadata": {},
   "outputs": [
    {
     "name": "stdout",
     "output_type": "stream",
     "text": [
      "producto:camisa| precio:20 |cantidad:40\n",
      "producto:pantalon| precio:30 |cantidad:30\n",
      "producto:zapatos| precio:50 |cantidad:40\n"
     ]
    }
   ],
   "source": [
    "tienda.ver_inventario()"
   ]
  },
  {
   "cell_type": "code",
   "execution_count": 13,
   "id": "3cecbed4",
   "metadata": {},
   "outputs": [
    {
     "name": "stdout",
     "output_type": "stream",
     "text": [
      "articulo encontrado {'nombre': 'camisa', 'precio': 20, 'cantidad': 40}\n"
     ]
    }
   ],
   "source": [
    "tienda.buscar_producto('camisa')"
   ]
  },
  {
   "cell_type": "code",
   "execution_count": 14,
   "id": "6debe247",
   "metadata": {},
   "outputs": [
    {
     "name": "stdout",
     "output_type": "stream",
     "text": [
      "stock actualizado,{'nombre': 'pantalon', 'precio': 30, 'cantidad': 32}\n"
     ]
    }
   ],
   "source": [
    "tienda.actualizar_stock('pantalon', 2)"
   ]
  },
  {
   "cell_type": "code",
   "execution_count": 15,
   "id": "eb76f4b7",
   "metadata": {},
   "outputs": [
    {
     "name": "stdout",
     "output_type": "stream",
     "text": [
      "el articulo pantalon se ha eliminado de tu inventario\n"
     ]
    }
   ],
   "source": [
    "tienda.eliminar_producto('pantalon')"
   ]
  },
  {
   "cell_type": "code",
   "execution_count": 16,
   "id": "9efd8d3b",
   "metadata": {},
   "outputs": [
    {
     "name": "stdout",
     "output_type": "stream",
     "text": [
      "el valor del inventario es 800\n",
      "el valor del inventario es 2800\n"
     ]
    }
   ],
   "source": [
    "tienda.calcular_valor_inventario()"
   ]
  }
 ],
 "metadata": {
  "kernelspec": {
   "display_name": "base",
   "language": "python",
   "name": "python3"
  },
  "language_info": {
   "codemirror_mode": {
    "name": "ipython",
    "version": 3
   },
   "file_extension": ".py",
   "mimetype": "text/x-python",
   "name": "python",
   "nbconvert_exporter": "python",
   "pygments_lexer": "ipython3",
   "version": "3.13.5"
  }
 },
 "nbformat": 4,
 "nbformat_minor": 5
}
